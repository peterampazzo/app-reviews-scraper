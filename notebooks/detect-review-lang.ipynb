{
 "cells": [
  {
   "cell_type": "markdown",
   "metadata": {},
   "source": [
    "[guide](https://towardsdatascience.com/introduction-to-googles-compact-language-detector-v3-in-python-b6887101ae47?gi=52f72b831292)\n",
    "\n",
    "```\n",
    " brew install protobuf\n",
    "```\n",
    "\n",
    "[CLD3 Documentation](https://github.com/google/cld3)\n",
    "[Install on MacOS with M1](https://github.com/google/cld3/issues/80#issuecomment-1466463935)"
   ]
  },
  {
   "cell_type": "markdown",
   "metadata": {},
   "source": [
    "# Detect Review Language"
   ]
  },
  {
   "cell_type": "code",
   "execution_count": null,
   "metadata": {},
   "outputs": [],
   "source": [
    "PROJECT = 'dating'\n",
    "APP_LIST = 'dating-apps'"
   ]
  },
  {
   "cell_type": "code",
   "execution_count": null,
   "metadata": {},
   "outputs": [],
   "source": [
    "import os\n",
    "import gcld3\n",
    "import json\n",
    "import pandas as pd\n",
    "import re"
   ]
  },
  {
   "cell_type": "code",
   "execution_count": null,
   "metadata": {},
   "outputs": [],
   "source": [
    "ANDROID_PATH = '/Users/pietro/Downloads/dl-dating/data/' + PROJECT + '/play-store/reviews/'\n",
    "IOS_PATH = '/Users/pietro/Downloads/dl-dating/data/' + PROJECT + '/app-store/reviews/'\n",
    "MIN_NUMBER_BYTES = 0\n",
    "MAX_NUMBER_BYTES = 5000"
   ]
  },
  {
   "cell_type": "code",
   "execution_count": null,
   "metadata": {},
   "outputs": [],
   "source": [
    "fpath = f\"/Users/pietro/Downloads/dl-dating/data/apps/{APP_LIST}.json\"\n",
    "with open(fpath) as json_file:\n",
    "    apps = json.load(json_file)"
   ]
  },
  {
   "cell_type": "code",
   "execution_count": null,
   "metadata": {},
   "outputs": [],
   "source": [
    "detector = gcld3.NNetLanguageIdentifier(min_num_bytes = MIN_NUMBER_BYTES, max_num_bytes = MAX_NUMBER_BYTES)"
   ]
  },
  {
   "cell_type": "code",
   "execution_count": null,
   "metadata": {},
   "outputs": [],
   "source": [
    "def FindReviewLanguage(x):\n",
    "    try:\n",
    "        if isinstance(x, str) and x != \"\":\n",
    "            result = detector.FindLanguage(text=x)\n",
    "            return pd.Series([result.language, result.is_reliable, result.proportion, result.probability])\n",
    "        else:\n",
    "            return pd.Series([\"\", \"\", \"\", \"\"])\n",
    "    except Exception as ex:\n",
    "        print(ex)"
   ]
  },
  {
   "cell_type": "code",
   "execution_count": null,
   "metadata": {},
   "outputs": [],
   "source": [
    "# Pandas is deprecating some params\n",
    "# We need to address them at some point\n",
    "import warnings\n",
    "warnings.filterwarnings('ignore')"
   ]
  },
  {
   "cell_type": "code",
   "execution_count": null,
   "metadata": {
    "tags": []
   },
   "outputs": [],
   "source": [
    "# Merge all reviews into one single file\n",
    "reviews_filename = \"/Users/pietro/Downloads/dl-dating/data/\" + PROJECT + '-lang-detection.csv'"
   ]
  },
  {
   "cell_type": "code",
   "execution_count": null,
   "metadata": {
    "tags": []
   },
   "outputs": [],
   "source": [
    "# Create empty file\n",
    "reviews = pd.DataFrame(columns=['text', 'score', 'date', 'os', 'app', 'store'])\n",
    "reviews.to_csv(reviews_filename, index=False)\n",
    "del reviews"
   ]
  },
  {
   "cell_type": "code",
   "execution_count": null,
   "metadata": {},
   "outputs": [],
   "source": [
    "for app in apps['apps']:\n",
    "    try:\n",
    "        # Play Store (Android)\n",
    "        app_name_dashed = app[\"android\"][\"id\"].replace(\".\", \"-\")\n",
    "        # app_name_dashed = app[\"android\"][\"id\"]\n",
    "        for filename in os.listdir(os.path.join(ANDROID_PATH, app_name_dashed)):\n",
    "            if filename.endswith('.csv'):\n",
    "                df = pd.read_csv(os.path.join(ANDROID_PATH, app_name_dashed, filename), usecols=['content', 'score', 'at'], low_memory=False)\n",
    "                df = df.rename(columns={\"content\": \"text\", \"at\": \"date\"}) \n",
    "                df['store'] = filename.split(\".\")[0]\n",
    "                df['os'] = 'Android'\n",
    "                df['app'] = app['android']['id']\n",
    "                df.to_csv(reviews_filename, mode=\"a\", header=False, index=False)\n",
    "\n",
    "        # App Store (iOS)\n",
    "        for filename in os.listdir(os.path.join(IOS_PATH, app['ios']['id'])):\n",
    "            if filename.endswith('.csv'):\n",
    "                df = pd.read_csv(os.path.join(IOS_PATH, app['ios']['id'], filename), usecols=['date', 'review', 'rating'], low_memory=False)\n",
    "                df = df.rename(columns={\"review\": \"text\", \"rating\": \"score\"}) \n",
    "                df['store'] = re.search('(.+?)(\\.[^.]*$|$)', filename).group(1)\n",
    "                df['os'] = 'iOS'\n",
    "                df['app'] = app['ios']['name']\n",
    "                df.to_csv(reviews_filename, mode=\"a\", header=False, index=False)\n",
    "                \n",
    "    except Exception as ex:\n",
    "        print(f'Error {app} {filename}')\n",
    "        print(ex)"
   ]
  },
  {
   "cell_type": "code",
   "execution_count": null,
   "metadata": {},
   "outputs": [],
   "source": [
    "# Create empty file\n",
    "reviews = pd.DataFrame(columns=['text', 'score', 'date', 'os', 'app', 'store', 'language', 'is_reliable', 'proportion', 'probability'])\n",
    "reviews.to_csv(\"/Users/pietro/Downloads/dl-dating/data/\" + PROJECT + '-lang-detection_processed.csv', index=False)\n",
    "del reviews"
   ]
  },
  {
   "cell_type": "code",
   "execution_count": null,
   "metadata": {},
   "outputs": [],
   "source": [
    "chunksize = 10 ** 3\n",
    "data = pd.read_csv(reviews_filename, low_memory=False, chunksize=chunksize)\n",
    "for chunk in data:\n",
    "    chunk[['language', 'is_reliable', 'proportion', 'probability']] = chunk['text'].apply(lambda x: FindReviewLanguage(x))\n",
    "    chunk.to_csv(\"/Users/pietro/Downloads/dl-dating/data/\" + PROJECT + '-lang-detection_processed.csv', mode=\"a\", header=False, index=False)"
   ]
  },
  {
   "cell_type": "code",
   "execution_count": null,
   "metadata": {},
   "outputs": [],
   "source": [
    "# Count"
   ]
  },
  {
   "cell_type": "code",
   "execution_count": null,
   "metadata": {},
   "outputs": [],
   "source": [
    "data = pd.read_csv(\"/Users/pietro/Downloads/dl-dating/data/\" + PROJECT + '-lang-detection_processed.csv', low_memory=False)"
   ]
  },
  {
   "cell_type": "code",
   "execution_count": null,
   "metadata": {},
   "outputs": [],
   "source": [
    "rows = data.shape[0]"
   ]
  },
  {
   "cell_type": "code",
   "execution_count": null,
   "metadata": {},
   "outputs": [],
   "source": [
    "count = data['language'].value_counts()"
   ]
  },
  {
   "cell_type": "code",
   "execution_count": null,
   "metadata": {},
   "outputs": [],
   "source": [
    "count.to_csv(\"/Users/pietro/Downloads/dl-dating/data/\" + PROJECT + '-count.csv')"
   ]
  },
  {
   "cell_type": "code",
   "execution_count": null,
   "metadata": {},
   "outputs": [],
   "source": [
    "count2 = count.div(rows)"
   ]
  },
  {
   "cell_type": "code",
   "execution_count": null,
   "metadata": {
    "tags": []
   },
   "outputs": [],
   "source": [
    "count2.to_csv(\"/Users/pietro/Downloads/dl-dating/data/\" + PROJECT + '-count2.csv')"
   ]
  },
  {
   "cell_type": "code",
   "execution_count": null,
   "metadata": {},
   "outputs": [],
   "source": []
  }
 ],
 "metadata": {
  "kernelspec": {
   "display_name": "Python 3 (ipykernel)",
   "language": "python",
   "name": "python3"
  },
  "language_info": {
   "codemirror_mode": {
    "name": "ipython",
    "version": 3
   },
   "file_extension": ".py",
   "mimetype": "text/x-python",
   "name": "python",
   "nbconvert_exporter": "python",
   "pygments_lexer": "ipython3",
   "version": "3.10.10"
  }
 },
 "nbformat": 4,
 "nbformat_minor": 4
}
