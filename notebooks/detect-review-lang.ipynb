{
 "cells": [
  {
   "cell_type": "markdown",
   "metadata": {},
   "source": [
    "Run detection language for all the downloaded reviews."
   ]
  },
  {
   "cell_type": "markdown",
   "metadata": {},
   "source": [
    "### Installation\n",
    "\n",
    "To run this notebook, it is recommended to create a virtual enviroment.\n",
    "\n",
    "```\n",
    "brew install pyenv pyenv-virtualenv protobuf@21\n",
    "pyenv virtualenv 3.11 app-reviews-scraper\n",
    "pyenv local app-reviews-scraper\n",
    "export PATH=\"/opt/homebrew/opt/protobuf@21/bin:$PATH\"\n",
    "export CFLAGS='-I/opt/homebrew/opt/protobuf@21/include'\n",
    "export LDFLAGS=-L/opt/homebrew/opt/protobuf@21/lib\n",
    "pip install -r requirements.txt\n",
    "```\n",
    "\n",
    "* [CLD3 Documentation](https://github.com/google/cld3)\n",
    "* [Install on MacOS with M1](https://github.com/google/cld3/issues/80#issuecomment-1466463935)\n",
    "* [Introduction to Google’s Compact Language Detector v3 in Python](https://towardsdatascience.com/introduction-to-googles-compact-language-detector-v3-in-python-b6887101ae47?gi=52f72b831292)"
   ]
  },
  {
   "cell_type": "markdown",
   "metadata": {},
   "source": [
    "### How to use it\n",
    "\n",
    "`cp .env.example .env`\n",
    "\n",
    "Adjust the file with the corresponding paths"
   ]
  },
  {
   "cell_type": "markdown",
   "metadata": {},
   "source": [
    "# Detect Review Language"
   ]
  },
  {
   "cell_type": "code",
   "execution_count": 1,
   "metadata": {},
   "outputs": [
    {
     "name": "stdout",
     "output_type": "stream",
     "text": [
      "env: PATH=\"/opt/homebrew/opt/protobuf@21/bin:$PATH\"\n",
      "env: CFLAGS='-I/opt/homebrew/opt/protobuf@21/include'\n",
      "env: LDFLAGS=-L/opt/homebrew/opt/protobuf@21/lib\n"
     ]
    }
   ],
   "source": [
    "%env PATH=\"/opt/homebrew/opt/protobuf@21/bin:$PATH\"\n",
    "%env CFLAGS='-I/opt/homebrew/opt/protobuf@21/include'\n",
    "%env LDFLAGS=-L/opt/homebrew/opt/protobuf@21/lib"
   ]
  },
  {
   "cell_type": "code",
   "execution_count": 1,
   "metadata": {},
   "outputs": [
    {
     "ename": "ImportError",
     "evalue": "dlopen(/Users/mast6838/.pyenv/versions/3.10.14/envs/app-reviews-scraper/lib/python3.10/site-packages/cld3/_cld3.cpython-310-darwin.so, 0x0002): symbol not found in flat namespace '__ZTIN6google8protobuf11MessageLiteE'",
     "output_type": "error",
     "traceback": [
      "\u001b[0;31m---------------------------------------------------------------------------\u001b[0m",
      "\u001b[0;31mImportError\u001b[0m                               Traceback (most recent call last)",
      "Cell \u001b[0;32mIn[1], line 2\u001b[0m\n\u001b[1;32m      1\u001b[0m \u001b[38;5;28;01mimport\u001b[39;00m \u001b[38;5;21;01mos\u001b[39;00m\n\u001b[0;32m----> 2\u001b[0m \u001b[38;5;28;01mimport\u001b[39;00m \u001b[38;5;21;01mcld3\u001b[39;00m \u001b[38;5;28;01mas\u001b[39;00m \u001b[38;5;21;01mgcld3\u001b[39;00m \n\u001b[1;32m      3\u001b[0m \u001b[38;5;28;01mimport\u001b[39;00m \u001b[38;5;21;01mjson\u001b[39;00m\n\u001b[1;32m      4\u001b[0m \u001b[38;5;28;01mimport\u001b[39;00m \u001b[38;5;21;01mpandas\u001b[39;00m \u001b[38;5;28;01mas\u001b[39;00m \u001b[38;5;21;01mpd\u001b[39;00m\n",
      "File \u001b[0;32m~/.pyenv/versions/3.10.14/envs/app-reviews-scraper/lib/python3.10/site-packages/cld3/__init__.py:3\u001b[0m\n\u001b[1;32m      1\u001b[0m __version__ \u001b[38;5;241m=\u001b[39m \u001b[38;5;124m'\u001b[39m\u001b[38;5;124m0.22\u001b[39m\u001b[38;5;124m'\u001b[39m\n\u001b[0;32m----> 3\u001b[0m \u001b[38;5;28;01mfrom\u001b[39;00m \u001b[38;5;21;01m.\u001b[39;00m\u001b[38;5;21;01m_cld3\u001b[39;00m \u001b[38;5;28;01mimport\u001b[39;00m \u001b[38;5;241m*\u001b[39m  \u001b[38;5;66;03m# noqa\u001b[39;00m\n",
      "\u001b[0;31mImportError\u001b[0m: dlopen(/Users/mast6838/.pyenv/versions/3.10.14/envs/app-reviews-scraper/lib/python3.10/site-packages/cld3/_cld3.cpython-310-darwin.so, 0x0002): symbol not found in flat namespace '__ZTIN6google8protobuf11MessageLiteE'"
     ]
    }
   ],
   "source": [
    "import os\n",
    "import cld3 as gcld3 \n",
    "import json\n",
    "import pandas as pd\n",
    "import re\n",
    "from pydantic_settings import BaseSettings, SettingsConfigDict"
   ]
  },
  {
   "cell_type": "code",
   "execution_count": null,
   "metadata": {},
   "outputs": [],
   "source": [
    "class Settings(BaseSettings):\n",
    "    project_name: str\n",
    "    data_path: str\n",
    "    app_list_path: str\n",
    "    ios_reviews_path: str = \"/app-store/reviews/\"\n",
    "    android_reviews_path: str = \"/play-store/reviews/\"\n",
    "    model_config = SettingsConfigDict(env_file='.env')"
   ]
  },
  {
   "cell_type": "code",
   "execution_count": null,
   "metadata": {},
   "outputs": [],
   "source": [
    "settings = Settings()"
   ]
  },
  {
   "cell_type": "code",
   "execution_count": null,
   "metadata": {},
   "outputs": [],
   "source": [
    "ANDROID_PATH = f'{settings.data_path}/{settings.project_name}/{settings.android_reviews_path}'\n",
    "IOS_PATH = f'{settings.data_path}/{settings.project_name}/{settings.ios_reviews_path}'\n",
    "MIN_NUMBER_BYTES = 0\n",
    "MAX_NUMBER_BYTES = 5000"
   ]
  },
  {
   "cell_type": "code",
   "execution_count": null,
   "metadata": {},
   "outputs": [],
   "source": [
    "with open(settings.app_list_path) as json_file:\n",
    "    apps = json.load(json_file)"
   ]
  },
  {
   "cell_type": "code",
   "execution_count": null,
   "metadata": {},
   "outputs": [],
   "source": [
    "detector = gcld3.NNetLanguageIdentifier(min_num_bytes = MIN_NUMBER_BYTES, max_num_bytes = MAX_NUMBER_BYTES)"
   ]
  },
  {
   "cell_type": "code",
   "execution_count": null,
   "metadata": {},
   "outputs": [],
   "source": [
    "def FindReviewLanguage(x):\n",
    "    try:\n",
    "        if isinstance(x, str) and x != \"\":\n",
    "            result = detector.FindLanguage(text=x)\n",
    "            return pd.Series([result.language, result.is_reliable, result.proportion, result.probability])\n",
    "        else:\n",
    "            return pd.Series([\"\", \"\", \"\", \"\"])\n",
    "    except Exception as ex:\n",
    "        print(ex)"
   ]
  },
  {
   "cell_type": "code",
   "execution_count": null,
   "metadata": {},
   "outputs": [],
   "source": [
    "# Pandas is deprecating some params\n",
    "# We need to address them at some point\n",
    "import warnings\n",
    "warnings.filterwarnings('ignore')"
   ]
  },
  {
   "cell_type": "code",
   "execution_count": null,
   "metadata": {
    "tags": []
   },
   "outputs": [],
   "source": [
    "# Merge all reviews into one single file\n",
    "reviews_filename = f\"{settings.data_path}/{settings.project_name}-lang-detection.csv\""
   ]
  },
  {
   "cell_type": "code",
   "execution_count": null,
   "metadata": {
    "tags": []
   },
   "outputs": [],
   "source": [
    "# Create empty file\n",
    "reviews = pd.DataFrame(columns=['text', 'score', 'date', 'os', 'app', 'store'])\n",
    "reviews.to_csv(reviews_filename, index=False)\n",
    "del reviews"
   ]
  },
  {
   "cell_type": "code",
   "execution_count": null,
   "metadata": {},
   "outputs": [],
   "source": [
    "for app in apps['apps']:\n",
    "    try:\n",
    "        # Play Store (Android)\n",
    "        app_name_dashed = app[\"android\"][\"id\"].replace(\".\", \"-\")\n",
    "        # app_name_dashed = app[\"android\"][\"id\"]\n",
    "        for filename in os.listdir(os.path.join(ANDROID_PATH, app_name_dashed)):\n",
    "            if filename.endswith('.csv'):\n",
    "                df = pd.read_csv(os.path.join(ANDROID_PATH, app_name_dashed, filename), usecols=['content', 'score', 'at'], low_memory=False)\n",
    "                df = df.rename(columns={\"content\": \"text\", \"at\": \"date\"}) \n",
    "                df['store'] = filename.split(\".\")[0]\n",
    "                df['os'] = 'Android'\n",
    "                df['app'] = app['android']['id']\n",
    "                df.to_csv(reviews_filename, mode=\"a\", header=False, index=False)\n",
    "\n",
    "        # App Store (iOS)\n",
    "        for filename in os.listdir(os.path.join(IOS_PATH, app['ios']['id'])):\n",
    "            if filename.endswith('.csv'):\n",
    "                df = pd.read_csv(os.path.join(IOS_PATH, app['ios']['id'], filename), usecols=['date', 'review', 'rating'], low_memory=False)\n",
    "                df = df.rename(columns={\"review\": \"text\", \"rating\": \"score\"}) \n",
    "                df['store'] = re.search('(.+?)(\\.[^.]*$|$)', filename).group(1)\n",
    "                df['os'] = 'iOS'\n",
    "                df['app'] = app['ios']['name']\n",
    "                df.to_csv(reviews_filename, mode=\"a\", header=False, index=False)\n",
    "                \n",
    "    except Exception as ex:\n",
    "        print(f'Error {app} {filename}')\n",
    "        print(ex)"
   ]
  },
  {
   "cell_type": "code",
   "execution_count": null,
   "metadata": {},
   "outputs": [],
   "source": [
    "# Create empty file\n",
    "reviews = pd.DataFrame(columns=['text', 'score', 'date', 'os', 'app', 'store', 'language', 'is_reliable', 'proportion', 'probability'])\n",
    "reviews.to_csv(f\"{settings.data_path}/{settings.project_name}-lang-detection_processed.csv\", index=False)\n",
    "del reviews"
   ]
  },
  {
   "cell_type": "code",
   "execution_count": null,
   "metadata": {},
   "outputs": [],
   "source": [
    "chunksize = 10 ** 3\n",
    "data = pd.read_csv(reviews_filename, low_memory=False, chunksize=chunksize)\n",
    "for chunk in data:\n",
    "    chunk[['language', 'is_reliable', 'proportion', 'probability']] = chunk['text'].apply(lambda x: FindReviewLanguage(x))\n",
    "    chunk.to_csv(f\"{settings.data_path}/{settings.project_name}-lang-detection_processed.csv\", mode=\"a\", header=False, index=False)"
   ]
  },
  {
   "cell_type": "code",
   "execution_count": null,
   "metadata": {},
   "outputs": [],
   "source": [
    "# Count"
   ]
  },
  {
   "cell_type": "code",
   "execution_count": null,
   "metadata": {},
   "outputs": [],
   "source": [
    "data = pd.read_csv(f\"{settings.data_path}/{settings.project_name}-lang-detection_processed.csv\", low_memory=False)"
   ]
  },
  {
   "cell_type": "code",
   "execution_count": null,
   "metadata": {},
   "outputs": [],
   "source": [
    "rows = data.shape[0]"
   ]
  },
  {
   "cell_type": "code",
   "execution_count": null,
   "metadata": {},
   "outputs": [],
   "source": [
    "count = data['language'].value_counts()"
   ]
  },
  {
   "cell_type": "code",
   "execution_count": null,
   "metadata": {},
   "outputs": [],
   "source": [
    "count.to_csv(f\"{settings.data_path}/{settings.project_name}-count.csv\")"
   ]
  },
  {
   "cell_type": "code",
   "execution_count": null,
   "metadata": {},
   "outputs": [],
   "source": [
    "count2 = count.div(rows)"
   ]
  },
  {
   "cell_type": "code",
   "execution_count": null,
   "metadata": {
    "tags": []
   },
   "outputs": [],
   "source": [
    "count2.to_csv(f\"{settings.data_path}/{settings.project_name}-count2.csv\")"
   ]
  }
 ],
 "metadata": {
  "kernelspec": {
   "display_name": "Python 3 (ipykernel)",
   "language": "python",
   "name": "python3"
  },
  "language_info": {
   "codemirror_mode": {
    "name": "ipython",
    "version": 3
   },
   "file_extension": ".py",
   "mimetype": "text/x-python",
   "name": "python",
   "nbconvert_exporter": "python",
   "pygments_lexer": "ipython3",
   "version": "3.10.14"
  }
 },
 "nbformat": 4,
 "nbformat_minor": 4
}
