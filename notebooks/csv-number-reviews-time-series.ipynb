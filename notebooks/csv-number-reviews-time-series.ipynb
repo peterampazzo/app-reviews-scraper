{
 "cells": [
  {
   "cell_type": "markdown",
   "metadata": {},
   "source": [
    "Time series, number of reviews per month"
   ]
  },
  {
   "cell_type": "code",
   "execution_count": 6,
   "metadata": {},
   "outputs": [],
   "source": [
    "import os\n",
    "import json\n",
    "import re\n",
    "import csv\n",
    "import pandas as pd"
   ]
  },
  {
   "cell_type": "code",
   "execution_count": 7,
   "metadata": {},
   "outputs": [],
   "source": [
    "APP_LIST = 'fertility'\n",
    "PROJECT = 'fertility-16012022'\n",
    "PATH_ANDROID = '../data/' + PROJECT + '/play-store/'\n",
    "PATH_IOS = '../data/' + PROJECT + '/app-store/'\n",
    "LIST = '../data/apps/' + APP_LIST + '.json'"
   ]
  },
  {
   "cell_type": "code",
   "execution_count": 8,
   "metadata": {},
   "outputs": [],
   "source": [
    "with open(LIST) as json_file:\n",
    "    APPS = json.load(json_file)"
   ]
  },
  {
   "cell_type": "code",
   "execution_count": 13,
   "metadata": {},
   "outputs": [],
   "source": [
    "COLS = [\"app\", \"lang\", \"year\", \"month\", \"size\"]\n",
    "ANDROID_REVIEWS = pd.DataFrame(columns=COLS)\n",
    "\n",
    "for app in APPS['apps']:\n",
    "    app_name_dashed = app[\"android\"][\"id\"].replace(\".\", \"-\")\n",
    "    for subdir, dirs, files in os.walk(PATH_ANDROID + 'reviews/' + app_name_dashed):\n",
    "        files = [f for f in files if not f[0] == '.']\n",
    "        dirs[:] = [d for d in dirs if not d[0] == '.']\n",
    "\n",
    "    #     print('Found directory: %s' % subdir)\n",
    "\n",
    "        for fname in files:\n",
    "    #         print('\\t%s' % fname)\n",
    "            reviews = pd.read_csv(subdir + '/' + fname)\n",
    "        \n",
    "            reviews['at']= pd.to_datetime(reviews['at'])\n",
    "            reviews['year'] = reviews['at'].dt.year\n",
    "            reviews['month'] = reviews['at'].dt.month\n",
    "            \n",
    "            count_series = reviews.groupby(['year', 'month']).size()\n",
    "            count_series = count_series.to_frame(name = 'size').reset_index()\n",
    "            count_series['app'] = app[\"android\"][\"id\"]\n",
    "            count_series['lang'] = fname.split(\".\")[0]\n",
    "\n",
    "            ANDROID_REVIEWS = ANDROID_REVIEWS.append(count_series)\n",
    "\n",
    "ANDROID_REVIEWS.to_csv(PATH_ANDROID + 'reviews-play-store-time-series.csv', index=False)"
   ]
  },
  {
   "cell_type": "code",
   "execution_count": 5,
   "metadata": {},
   "outputs": [],
   "source": [
    "COLS = [\"app\", \"country\", \"year\", \"month\", \"size\"]\n",
    "IOS_REVIEWS = pd.DataFrame(columns=COLS)\n",
    "\n",
    "for app in APPS['apps']:\n",
    "    for subdir, dirs, files in os.walk(PATH_IOS  + '/reviews/' + app['ios']['id']):\n",
    "        files = [f for f in files if not f[0] == '.']\n",
    "        dirs[:] = [d for d in dirs if not d[0] == '.']\n",
    "\n",
    "        for fname in files:\n",
    "            reviews = pd.read_csv(subdir + '/' + fname)\n",
    "            reviews['date']= pd.to_datetime(reviews['date'])\n",
    "            reviews['year'] = reviews['date'].dt.year\n",
    "            reviews['month'] = reviews['date'].dt.month\n",
    "            \n",
    "            count_series = reviews.groupby(['year', 'month']).size()\n",
    "            count_series = count_series.to_frame(name = 'size').reset_index()\n",
    "            count_series['app'] = os.path.basename(os.path.normpath(subdir))\n",
    "            count_series['country'] = re.search('(.+?)(\\.[^.]*$|$)', fname).group(1)\n",
    "            \n",
    "            IOS_REVIEWS = IOS_REVIEWS.append(count_series)\n",
    "        \n",
    "\n",
    "IOS_REVIEWS.to_csv(PATH_IOS + 'reviews-app-store-time-series.csv', index=False)"
   ]
  }
 ],
 "metadata": {
  "kernelspec": {
   "display_name": "Python 3 (ipykernel)",
   "language": "python",
   "name": "python3"
  },
  "language_info": {
   "codemirror_mode": {
    "name": "ipython",
    "version": 3
   },
   "file_extension": ".py",
   "mimetype": "text/x-python",
   "name": "python",
   "nbconvert_exporter": "python",
   "pygments_lexer": "ipython3",
   "version": "3.10.10"
  }
 },
 "nbformat": 4,
 "nbformat_minor": 4
}
