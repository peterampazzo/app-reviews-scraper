{
 "cells": [
  {
   "cell_type": "markdown",
   "metadata": {},
   "source": [
    "This notebook merge the data collected querying all the reviews and app details (with raitings) for both markets (Android and iOS)"
   ]
  },
  {
   "cell_type": "code",
   "execution_count": 1,
   "metadata": {
    "tags": []
   },
   "outputs": [],
   "source": [
    "import os\n",
    "import json\n",
    "import re\n",
    "import csv\n",
    "import pandas as pd"
   ]
  },
  {
   "cell_type": "code",
   "execution_count": 2,
   "metadata": {
    "tags": []
   },
   "outputs": [],
   "source": [
    "APP_LIST = 'dating-apps'\n",
    "PROJECT = 'dating'\n",
    "PATH_ANDROID = '/Users/pietro/Downloads/dl-dating/data/' + PROJECT + '/play-store/'\n",
    "PATH_IOS = '/Users/pietro/Downloads/dl-dating/data/' + PROJECT + '/app-store/'\n",
    "LIST = '/Users/pietro/Downloads/dl-dating/data/apps/' + APP_LIST + '.json'"
   ]
  },
  {
   "cell_type": "code",
   "execution_count": 3,
   "metadata": {
    "tags": []
   },
   "outputs": [],
   "source": [
    "with open(LIST) as json_file:\n",
    "    APPS = json.load(json_file)"
   ]
  },
  {
   "cell_type": "code",
   "execution_count": 5,
   "metadata": {
    "tags": []
   },
   "outputs": [],
   "source": [
    "import warnings\n",
    "warnings.filterwarnings('ignore')"
   ]
  },
  {
   "cell_type": "code",
   "execution_count": 18,
   "metadata": {
    "tags": []
   },
   "outputs": [],
   "source": [
    "COLS = [\"app\", \"lang\", \"reviews\", \"install\", \"minInstall\", \"maxInstall\", \"score\", \"ratings\", \"reviews\"]\n",
    "ANDROID_REVIEWS = pd.DataFrame(columns=COLS)\n",
    "\n",
    "for app in APPS['apps']:\n",
    "    app_name_dashed = app[\"android\"][\"id\"].replace(\".\", \"-\")\n",
    "    for subdir, dirs, files in os.walk(PATH_ANDROID + 'reviews/' + app_name_dashed):\n",
    "        files = [f for f in files if not f[0] == '.']\n",
    "        dirs[:] = [d for d in dirs if not d[0] == '.']\n",
    "\n",
    "        for fname in files:\n",
    "            reviews = pd.read_csv(subdir + '/' + fname)\n",
    "    \n",
    "            app = os.path.basename(os.path.normpath(subdir))\n",
    "            language =  fname.split(\".\")[0]\n",
    "\n",
    "            try:\n",
    "                fpath = PATH_ANDROID + 'details/' + app_name_dashed + '/'+ language + '.json'\n",
    "                if os.path.isfile(fpath):\n",
    "                    with open(fpath) as json_file:\n",
    "                            data = json.load(json_file)\n",
    "                else:\n",
    "                    data = {'install': None, 'minInstalls': None, 'installs': None, 'score': None, 'ratings': None, 'reviews': None}  \n",
    "\n",
    "\n",
    "                df = pd.DataFrame([[app, language, reviews.shape[0], data['installs'], data['minInstalls'], data['installs'], data['score'], data['ratings'], data['reviews']]], columns=COLS)\n",
    "                ANDROID_REVIEWS = ANDROID_REVIEWS.append(df)\n",
    "            except Exception as ex:\n",
    "                print(f\"error {ex}\")\n",
    "        \n",
    "ANDROID_REVIEWS.to_csv(PATH_ANDROID + 'reviews-play-store.csv', index=False)"
   ]
  },
  {
   "cell_type": "code",
   "execution_count": 17,
   "metadata": {
    "tags": []
   },
   "outputs": [],
   "source": [
    "COLS = [\"app\", \"country\", \"reviews\", \"ratings\", \"ratings_count\"]\n",
    "IOS_REVIEWS = pd.DataFrame(columns=COLS)\n",
    "\n",
    "for app in APPS['apps']:\n",
    "    for subdir, dirs, files in os.walk(PATH_IOS  + '/details/' + app['ios']['id']):\n",
    "        files = [f for f in files if not f[0] == '.']\n",
    "        dirs[:] = [d for d in dirs if not d[0] == '.']\n",
    "        \n",
    "        for fname in files:\n",
    "            country = fname.split(\".\")[0].upper()\n",
    "            # reviews = pd.read_csv(subdir + '/' + fname)\n",
    "\n",
    "            # app = os.path.basename(os.path.normpath(subdir))\n",
    "            # country =  re.search('(.+?)(\\.[^.]*$|$)', fname).group(1)\n",
    "            \n",
    "            try:\n",
    "                if os.path.exists(f\"{PATH_IOS}/reviews/{app['ios']['id']}/{country}.csv\"):\n",
    "                    reviews = pd.read_csv(f\"{PATH_IOS}/reviews/{app['ios']['id']}/{country}.csv\")\n",
    "                else:\n",
    "                    reviews = pd.DataFrame()\n",
    "                    \n",
    "                fpath = PATH_IOS + 'details/' + app['ios']['id'] + '/' + fname\n",
    "                # if os.path.isfile(fpath):\n",
    "                with open(fpath) as json_file:\n",
    "                    data = json.load(json_file)[0]\n",
    "                # else:\n",
    "                #     data = {'appId': None, 'score': None, 'ratings': None, 'histogram': {}}\n",
    "\n",
    "                \n",
    "                n_reviews = -1 if reviews.empty else reviews.shape[0]\n",
    "                df = pd.DataFrame([[app['ios']['id'], country, n_reviews, data['averageUserRating'], data['userRatingCount']]], \n",
    "                                  columns=COLS)\n",
    "                \n",
    "                IOS_REVIEWS = IOS_REVIEWS.append(df)\n",
    "            except FileNotFoundError:\n",
    "                data \n",
    "            # except Exception as ex:\n",
    "            #     print(app, country)\n",
    "            #     print(ex)\n",
    "                #print(f\"File not found {PATH_IOS + 'details/' + app + '-' + country.lower() + '.json'}\")\n",
    "\n",
    "IOS_REVIEWS.to_csv(PATH_IOS + 'reviews-app-store.csv', index=False)"
   ]
  }
 ],
 "metadata": {
  "kernelspec": {
   "display_name": "Python 3 (ipykernel)",
   "language": "python",
   "name": "python3"
  },
  "language_info": {
   "codemirror_mode": {
    "name": "ipython",
    "version": 3
   },
   "file_extension": ".py",
   "mimetype": "text/x-python",
   "name": "python",
   "nbconvert_exporter": "python",
   "pygments_lexer": "ipython3",
   "version": "3.10.10"
  }
 },
 "nbformat": 4,
 "nbformat_minor": 4
}
